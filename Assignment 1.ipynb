{
 "cells": [
  {
   "cell_type": "raw",
   "id": "95e8c7e0",
   "metadata": {},
   "source": [
    "Question 1.\n",
    "\n",
    "* = EXPRESSION\n",
    "'HELLO'= Value\n",
    "-87.8 = Value\n",
    "- = Expression\n",
    "/ =Expression\n",
    "+ = Expression\n",
    "6 = Value"
   ]
  },
  {
   "cell_type": "raw",
   "id": "c2cf66a5",
   "metadata": {},
   "source": [
    "Question 2.\n",
    "\n",
    "String: String is a value which comes inside qotes. ex:-\"respect\".\n",
    "Variable: It is a key to assign a value. ex:- a= 24.\n"
   ]
  },
  {
   "cell_type": "raw",
   "id": "9ac809b0",
   "metadata": {},
   "source": [
    "Question 3.\n",
    "\n",
    "Data Types:\n",
    "1- Numeric:Data which contains only numeric value. These value can be integers, float and complex numbers.\n",
    "2- Set: It is an unordered collection of data type which is iterable, mutable and has no duplicate elements.\n",
    "3-List: The list is used to store multiple form of data items in a single variable.\n"
   ]
  },
  {
   "cell_type": "raw",
   "id": "2a2645a6",
   "metadata": {},
   "source": [
    "Question 4.\n",
    "\n",
    "An expression is a construct which is made of values, containers and mathematical operator.\n",
    "An expression is used to evalute the values and represent the output on screen."
   ]
  },
  {
   "cell_type": "raw",
   "id": "75ca50d2",
   "metadata": {},
   "source": [
    "Question 5.\n",
    "\n",
    "Expression: An expression is a construct which is made of values, containers and mathematical operator.\n",
    "Statement: A statement is an instruction or order that a python interpreter can execute."
   ]
  },
  {
   "cell_type": "code",
   "execution_count": 1,
   "id": "4235d536",
   "metadata": {},
   "outputs": [
    {
     "data": {
      "text/plain": [
       "23"
      ]
     },
     "execution_count": 1,
     "metadata": {},
     "output_type": "execute_result"
    }
   ],
   "source": [
    "#Question 6.\n",
    "\n",
    "bacon = 22\n",
    "bacon +1"
   ]
  },
  {
   "cell_type": "code",
   "execution_count": 3,
   "id": "263a9aab",
   "metadata": {},
   "outputs": [
    {
     "data": {
      "text/plain": [
       "'spamspamspam'"
      ]
     },
     "execution_count": 3,
     "metadata": {},
     "output_type": "execute_result"
    }
   ],
   "source": [
    "#Question 7.\n",
    "\n",
    "'spam' + \"spamspam\""
   ]
  },
  {
   "cell_type": "code",
   "execution_count": 4,
   "id": "e864f7f1",
   "metadata": {},
   "outputs": [
    {
     "data": {
      "text/plain": [
       "'spamspamspam'"
      ]
     },
     "execution_count": 4,
     "metadata": {},
     "output_type": "execute_result"
    }
   ],
   "source": [
    "\"spam\"*3"
   ]
  },
  {
   "cell_type": "raw",
   "id": "de93d32c",
   "metadata": {},
   "source": [
    "The values are same in both terms."
   ]
  },
  {
   "cell_type": "raw",
   "id": "7a027c14",
   "metadata": {},
   "source": [
    "Question 8.\n",
    "\n",
    "A Variable never starts with integer but can start with a words , incase if we want to use integer in varaible than first start with a alphabet like e10."
   ]
  },
  {
   "cell_type": "raw",
   "id": "9869916d",
   "metadata": {},
   "source": [
    "Question 9.\n",
    "\n",
    "str(),int(),float()"
   ]
  },
  {
   "cell_type": "raw",
   "id": "bb9bc258",
   "metadata": {},
   "source": [
    "Question 10.\n",
    "\n",
    "It will show error because 99 is an integer and we cant concante a integer with strings.\n",
    "with the help of typecasting the error can be fix."
   ]
  }
 ],
 "metadata": {
  "kernelspec": {
   "display_name": "Python 3 (ipykernel)",
   "language": "python",
   "name": "python3"
  },
  "language_info": {
   "codemirror_mode": {
    "name": "ipython",
    "version": 3
   },
   "file_extension": ".py",
   "mimetype": "text/x-python",
   "name": "python",
   "nbconvert_exporter": "python",
   "pygments_lexer": "ipython3",
   "version": "3.9.7"
  }
 },
 "nbformat": 4,
 "nbformat_minor": 5
}
